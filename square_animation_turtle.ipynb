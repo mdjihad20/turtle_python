{
 "cells": [
  {
   "cell_type": "code",
   "execution_count": 5,
   "metadata": {},
   "outputs": [],
   "source": [
    "from turtle import *"
   ]
  },
  {
   "cell_type": "code",
   "execution_count": 6,
   "metadata": {},
   "outputs": [],
   "source": [
    "pensize(10)\n",
    "color('yellow')\n",
    "bgcolor('black')\n",
    "speed(1)"
   ]
  },
  {
   "cell_type": "code",
   "execution_count": 7,
   "metadata": {},
   "outputs": [],
   "source": [
    "penup()\n",
    "goto(-150, 150)\n",
    "fillcolor('red')\n",
    "begin_fill()\n",
    "pendown()"
   ]
  },
  {
   "cell_type": "code",
   "execution_count": 8,
   "metadata": {},
   "outputs": [],
   "source": [
    "forward(300)\n",
    "left(-90)\n",
    "forward(300)\n",
    "left(-90)\n",
    "forward(300)\n",
    "left(-90)\n",
    "forward(300)\n",
    "left(-90)\n",
    "\n",
    "end_fill()"
   ]
  }
 ],
 "metadata": {
  "kernelspec": {
   "display_name": "Python 3.10.0 64-bit",
   "language": "python",
   "name": "python3"
  },
  "language_info": {
   "codemirror_mode": {
    "name": "ipython",
    "version": 3
   },
   "file_extension": ".py",
   "mimetype": "text/x-python",
   "name": "python",
   "nbconvert_exporter": "python",
   "pygments_lexer": "ipython3",
   "version": "3.10.0"
  },
  "orig_nbformat": 4,
  "vscode": {
   "interpreter": {
    "hash": "be18d03d0d60a8de4c4b4a892d4e95aa660aad3aae6cf5dc2161e18d147b48b6"
   }
  }
 },
 "nbformat": 4,
 "nbformat_minor": 2
}
